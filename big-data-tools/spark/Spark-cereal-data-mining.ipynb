{
 "cells": [
  {
   "cell_type": "code",
   "execution_count": 0,
   "metadata": {
    "application/vnd.databricks.v1+cell": {
     "cellMetadata": {
      "byteLimit": 2048000,
      "rowLimit": 10000
     },
     "inputWidgets": {},
     "nuid": "42308be2-1670-49bb-8f0c-6d34bfcdac41",
     "showTitle": false,
     "tableResultSettingsMap": {},
     "title": ""
    }
   },
   "outputs": [],
   "source": [
    "import pyspark\n",
    "\n",
    "#Creamos una sesion de spark\n",
    "from pyspark.sql import SparkSession\n",
    "\n",
    "#Creamos un objeto de spark session\n",
    "spark = SparkSession.builder.appName(\"pysparkdf\").getOrCreate()"
   ]
  },
  {
   "cell_type": "code",
   "execution_count": 0,
   "metadata": {
    "application/vnd.databricks.v1+cell": {
     "cellMetadata": {
      "byteLimit": 2048000,
      "rowLimit": 10000
     },
     "inputWidgets": {},
     "nuid": "c6a52f24-a046-4714-9cea-b6fa1c932ab1",
     "showTitle": false,
     "tableResultSettingsMap": {},
     "title": ""
    }
   },
   "outputs": [],
   "source": [
    "#Leemos un cvs\n",
    "df = spark.read.option(\"header\", \"true\").csv(\"/FileStore/tables/cereal.csv\")"
   ]
  },
  {
   "cell_type": "code",
   "execution_count": 0,
   "metadata": {
    "application/vnd.databricks.v1+cell": {
     "cellMetadata": {
      "byteLimit": 2048000,
      "rowLimit": 10000
     },
     "inputWidgets": {},
     "nuid": "dd621a14-e513-4cce-a843-ef8d3373d661",
     "showTitle": false,
     "tableResultSettingsMap": {},
     "title": ""
    }
   },
   "outputs": [
    {
     "output_type": "stream",
     "name": "stdout",
     "output_type": "stream",
     "text": [
      "+--------------------+---+----+--------+-------+---+------+-----+-----+------+------+--------+-----+------+----+----------+\n|                name|mfr|type|calories|protein|fat|sodium|fiber|carbo|sugars|potass|vitamins|shelf|weight|cups|    rating|\n+--------------------+---+----+--------+-------+---+------+-----+-----+------+------+--------+-----+------+----+----------+\n|           100% Bran|  N|   C|      70|      4|  1|   130|   10|    5|     6|   280|      25|    3|     1|0.33|68.402.973|\n|   100% Natural Bran|  Q|   C|     120|      3|  5|    15|    2|    8|     8|   135|       0|    3|     1|   1|33.983.679|\n|            All-Bran|  K|   C|      70|      4|  1|   260|    9|    7|     5|   320|      25|    3|     1|0.33|59.425.505|\n|All-Bran with Ext...|  K|   C|      50|      4|  0|   140|   14|    8|     0|   330|      25|    3|     1| 0.5|93.704.912|\n|      Almond Delight|  R|   C|     110|      2|  2|   200|    1|   14|     8|    -1|      25|    3|     1|0.75|34.384.843|\n|Apple Cinnamon Ch...|  G|   C|     110|      2|  2|   180|  1.5| 10.5|    10|    70|      25|    1|     1|0.75|29.509.541|\n|         Apple Jacks|  K|   C|     110|      2|  0|   125|    1|   11|    14|    30|      25|    2|     1|   1|33.174.094|\n|             Basic 4|  G|   C|     130|      3|  2|   210|    2|   18|     8|   100|      25|    3|  1.33|0.75|37.038.562|\n|           Bran Chex|  R|   C|      90|      2|  1|   200|    4|   15|     6|   125|      25|    1|     1|0.67|49.120.253|\n|         Bran Flakes|  P|   C|      90|      3|  0|   210|    5|   13|     5|   190|      25|    3|     1|0.67|53.313.813|\n+--------------------+---+----+--------+-------+---+------+-----+-----+------+------+--------+-----+------+----+----------+\nonly showing top 10 rows\n\n"
     ]
    }
   ],
   "source": [
    "#Mostramos los primeros 10 registros\n",
    "df.show(10)\n"
   ]
  },
  {
   "cell_type": "code",
   "execution_count": 0,
   "metadata": {
    "application/vnd.databricks.v1+cell": {
     "cellMetadata": {
      "byteLimit": 2048000,
      "rowLimit": 10000
     },
     "inputWidgets": {},
     "nuid": "b2d1264c-5a41-43ec-979c-594d11083ab5",
     "showTitle": false,
     "tableResultSettingsMap": {},
     "title": ""
    }
   },
   "outputs": [
    {
     "output_type": "stream",
     "name": "stdout",
     "output_type": "stream",
     "text": [
      "root\n |-- name: string (nullable = true)\n |-- mfr: string (nullable = true)\n |-- type: string (nullable = true)\n |-- calories: string (nullable = true)\n |-- protein: string (nullable = true)\n |-- fat: string (nullable = true)\n |-- sodium: string (nullable = true)\n |-- fiber: string (nullable = true)\n |-- carbo: string (nullable = true)\n |-- sugars: string (nullable = true)\n |-- potass: string (nullable = true)\n |-- vitamins: string (nullable = true)\n |-- shelf: string (nullable = true)\n |-- weight: string (nullable = true)\n |-- cups: string (nullable = true)\n |-- rating: string (nullable = true)\n\n"
     ]
    }
   ],
   "source": [
    "#Para ver el esquema de los datos podemos por ej, aplicar el siguiente codigo!\n",
    "df.printSchema()\n"
   ]
  },
  {
   "cell_type": "markdown",
   "metadata": {
    "application/vnd.databricks.v1+cell": {
     "cellMetadata": {},
     "inputWidgets": {},
     "nuid": "fa322dac-07e4-4814-b0a6-8d400bffd9cb",
     "showTitle": false,
     "tableResultSettingsMap": {},
     "title": ""
    }
   },
   "source": [
    "Comencemos con las funciones:\n",
    "\n",
    "* Seleccione(): La función de selección nos ayuda a mostrar un subconjunto de columnas\n",
    "seleccionadas de todo el marco de datos, solo necesitamos pasar los nombres de columna\n",
    "deseados. Imprimamos tres columnas cualesquiera del marco de datos usando select ().\n"
   ]
  },
  {
   "cell_type": "code",
   "execution_count": 0,
   "metadata": {
    "application/vnd.databricks.v1+cell": {
     "cellMetadata": {
      "byteLimit": 2048000,
      "rowLimit": 10000
     },
     "inputWidgets": {},
     "nuid": "03ae2fe6-b0cd-4e2d-b2f8-57378cd5a026",
     "showTitle": false,
     "tableResultSettingsMap": {},
     "title": ""
    }
   },
   "outputs": [
    {
     "output_type": "stream",
     "name": "stdout",
     "output_type": "stream",
     "text": [
      "+--------------------+---+----------+\n|                name|mfr|    rating|\n+--------------------+---+----------+\n|           100% Bran|  N|68.402.973|\n|   100% Natural Bran|  Q|33.983.679|\n|            All-Bran|  K|59.425.505|\n|All-Bran with Ext...|  K|93.704.912|\n|      Almond Delight|  R|34.384.843|\n|Apple Cinnamon Ch...|  G|29.509.541|\n|         Apple Jacks|  K|33.174.094|\n|             Basic 4|  G|37.038.562|\n|           Bran Chex|  R|49.120.253|\n|         Bran Flakes|  P|53.313.813|\n+--------------------+---+----------+\nonly showing top 10 rows\n\n"
     ]
    }
   ],
   "source": [
    "#Seleccionamos ciertas columnas\n",
    "df.select('name', 'mfr', 'rating').show(10)\n"
   ]
  },
  {
   "cell_type": "markdown",
   "metadata": {
    "application/vnd.databricks.v1+cell": {
     "cellMetadata": {},
     "inputWidgets": {},
     "nuid": "c346049d-0276-40bd-84dc-04d9a3568ee1",
     "showTitle": false,
     "tableResultSettingsMap": {},
     "title": ""
    }
   },
   "source": [
    "* withColumn (): La función withColumn se usa para manipular una columna o para crear\n",
    "una nueva columna con la columna existente. Es una función de transformación, también\n",
    "podemos cambiar el tipo de datos de cualquier columna existente.\n",
    "\n",
    "En el esquema de DataFrame, vimos que todas las columnas son de tipo cadena. Cambiemos el\n",
    "tipo de datos de la columna de calorías a un número entero."
   ]
  },
  {
   "cell_type": "code",
   "execution_count": 0,
   "metadata": {
    "application/vnd.databricks.v1+cell": {
     "cellMetadata": {
      "byteLimit": 2048000,
      "rowLimit": 10000
     },
     "inputWidgets": {},
     "nuid": "8446315c-b44a-4db1-b66d-5b313c1c7411",
     "showTitle": false,
     "tableResultSettingsMap": {},
     "title": ""
    }
   },
   "outputs": [
    {
     "output_type": "stream",
     "name": "stdout",
     "output_type": "stream",
     "text": [
      "root\n |-- name: string (nullable = true)\n |-- mfr: string (nullable = true)\n |-- type: string (nullable = true)\n |-- Calories: integer (nullable = true)\n |-- protein: string (nullable = true)\n |-- fat: string (nullable = true)\n |-- sodium: string (nullable = true)\n |-- fiber: string (nullable = true)\n |-- carbo: string (nullable = true)\n |-- sugars: string (nullable = true)\n |-- potass: string (nullable = true)\n |-- vitamins: string (nullable = true)\n |-- shelf: string (nullable = true)\n |-- weight: string (nullable = true)\n |-- cups: string (nullable = true)\n |-- rating: string (nullable = true)\n\n"
     ]
    }
   ],
   "source": [
    "df.withColumn(\"Calories\",df['calories'].cast(\"Integer\")).printSchema()"
   ]
  },
  {
   "cell_type": "markdown",
   "metadata": {
    "application/vnd.databricks.v1+cell": {
     "cellMetadata": {},
     "inputWidgets": {},
     "nuid": "d0b48753-e440-4c13-a249-b87f234f2817",
     "showTitle": false,
     "tableResultSettingsMap": {},
     "title": ""
    }
   },
   "source": [
    "* agrupar por(): La función groupBy se utiliza para recopilar los datos en grupos en\n",
    "DataFrame y nos permite realizar funciones agregadas en los datos agrupados. Esta es\n",
    "una operación de análisis de datos muy común similar a la cláusula groupBy en SQL."
   ]
  },
  {
   "cell_type": "code",
   "execution_count": 0,
   "metadata": {
    "application/vnd.databricks.v1+cell": {
     "cellMetadata": {
      "byteLimit": 2048000,
      "rowLimit": 10000
     },
     "inputWidgets": {},
     "nuid": "2c52c726-410b-4c5c-8874-0b632fa6bdbb",
     "showTitle": false,
     "tableResultSettingsMap": {},
     "title": ""
    }
   },
   "outputs": [
    {
     "output_type": "stream",
     "name": "stdout",
     "output_type": "stream",
     "text": [
      "+--------------------+--------+-----+\n|                name|calories|count|\n+--------------------+--------+-----+\n|             Basic 4|     130|    1|\n|         Cocoa Puffs|     110|    1|\n|Strawberry Fruit ...|      90|    1|\n|  Great Grains Pecan|     120|    1|\n|          Wheat Chex|     100|    1|\n|Mueslix Crispy Blend|     160|    1|\n|     Raisin Nut Bran|     100|    1|\n|  Honey Nut Cheerios|     110|    1|\n|         Corn Flakes|     100|    1|\n|                Trix|     110|    1|\n|   Grape Nuts Flakes|     100|    1|\n|Muesli Raisins; P...|     150|    1|\n|      Fruity Pebbles|     110|    1|\n|Shredded Wheat 'n...|      90|    1|\n|Post Nat. Raisin ...|     120|    1|\n|   Total Raisin Bran|     140|    1|\n|           Corn Pops|     110|    1|\n|  Cracklin' Oat Bran|     110|    1|\n|Cinnamon Toast Cr...|     120|    1|\n|                 Kix|     110|    1|\n+--------------------+--------+-----+\nonly showing top 20 rows\n\n"
     ]
    }
   ],
   "source": [
    "df.groupBy('name', 'calories').count().show()"
   ]
  },
  {
   "cell_type": "markdown",
   "metadata": {
    "application/vnd.databricks.v1+cell": {
     "cellMetadata": {},
     "inputWidgets": {},
     "nuid": "2eaf0569-0851-4a40-bc3e-a43cb21422cb",
     "showTitle": false,
     "tableResultSettingsMap": {},
     "title": ""
    }
   },
   "source": [
    "* orderBy (): La función orderBy se utiliza para ordenar todo el marco de datos en función\n",
    "de la columna particular del marco de datos. Ordena las filas del marco de datos según\n",
    "los valores de las columnas. De forma predeterminada, se clasifica en orden ascendente.\n",
    "Analicemos el marco de datos en función de la columna de proteínas del conjunto de datos.\n"
   ]
  },
  {
   "cell_type": "code",
   "execution_count": 0,
   "metadata": {
    "application/vnd.databricks.v1+cell": {
     "cellMetadata": {
      "byteLimit": 2048000,
      "rowLimit": 10000
     },
     "inputWidgets": {},
     "nuid": "ce0026c2-9e68-4a21-bee4-c234700b11d8",
     "showTitle": false,
     "tableResultSettingsMap": {},
     "title": ""
    }
   },
   "outputs": [
    {
     "output_type": "stream",
     "name": "stdout",
     "output_type": "stream",
     "text": [
      "+--------------------+---+----+--------+-------+---+------+-----+-----+------+------+--------+-----+------+----+----------+\n|                name|mfr|type|calories|protein|fat|sodium|fiber|carbo|sugars|potass|vitamins|shelf|weight|cups|    rating|\n+--------------------+---+----+--------+-------+---+------+-----+-----+------+------+--------+-----+------+----+----------+\n|        Cap'n'Crunch|  Q|   C|     120|      1|  2|   220|    0|   12|    12|    35|      25|    2|     1|0.75|18.042.851|\n|Cinnamon Toast Cr...|  G|   C|     120|      1|  3|   210|    0|   13|     9|    45|      25|    2|     1|0.75|19.823.573|\n|         Cocoa Puffs|  G|   C|     110|      1|  1|   180|    0|   12|    13|    55|      25|    2|     1|   1|22.736.446|\n|           Corn Pops|  K|   C|     110|      1|  0|    90|    1|   13|    12|    20|      25|    2|     1|   1|35.782.791|\n|       Count Chocula|  G|   C|     110|      1|  1|   180|    0|   12|    13|    65|      25|    2|     1|   1|22.396.513|\n|      Frosted Flakes|  K|   C|     110|      1|  0|   200|    1|   14|    11|    25|      25|    1|     1|0.75|31.435.973|\n|      Fruity Pebbles|  P|   C|     110|      1|  1|   135|    0|   13|    12|    25|      25|    2|     1|0.75|28.025.765|\n|      Golden Grahams|  G|   C|     110|      1|  1|   280|    0|   15|     9|    45|      25|    2|     1|0.75|23.804.043|\n|    Honey Graham Ohs|  Q|   C|     120|      1|  2|   220|    1|   12|    11|    45|      25|    2|     1|   1|21.871.292|\n|          Honey-comb|  P|   C|     110|      1|  0|   180|    0|   14|    11|    35|      25|    1|     1|1.33|28.742.414|\n|         Puffed Rice|  Q|   C|      50|      1|  0|     0|    0|   13|     0|    15|       0|    3|   0.5|   1|60.756.112|\n|           Rice Chex|  R|   C|     110|      1|  0|   240|    0|   23|     2|    30|      25|    1|     1|1.13|41.998.933|\n|                Trix|  G|   C|     110|      1|  1|   140|    0|   13|    12|    25|      25|    2|     1|   1|27.753.301|\n|         Froot Loops|  K|   C|     110|      2|  1|   125|    1|   11|    13|    30|      25|    2|     1|   1|32.207.582|\n|Apple Cinnamon Ch...|  G|   C|     110|      2|  2|   180|  1.5| 10.5|    10|    70|      25|    1|     1|0.75|29.509.541|\n|             Crispix|  K|   C|     110|      2|  0|   220|    1|   21|     3|    30|      25|    3|     1|   1|46.895.644|\n|         Apple Jacks|  K|   C|     110|      2|  0|   125|    1|   11|    14|    30|      25|    2|     1|   1|33.174.094|\n|         Corn Flakes|  K|   C|     100|      2|  0|   290|    1|   21|     2|    35|      25|    1|     1|   1|45.863.324|\n|        Golden Crisp|  P|   C|     100|      2|  0|    45|    0|   11|    15|    40|      25|    1|     1|0.88|35.252.444|\n|Crispy Wheat & Ra...|  G|   C|     100|      2|  1|   140|    2|   11|    10|   120|      25|    3|     1|0.75|36.176.196|\n+--------------------+---+----+--------+-------+---+------+-----+-----+------+------+--------+-----+------+----+----------+\nonly showing top 20 rows\n\n"
     ]
    }
   ],
   "source": [
    "df.orderBy('protein').show()"
   ]
  },
  {
   "cell_type": "markdown",
   "metadata": {
    "application/vnd.databricks.v1+cell": {
     "cellMetadata": {},
     "inputWidgets": {},
     "nuid": "de6f1328-373a-4e21-80b2-7327d4d8ae25",
     "showTitle": false,
     "tableResultSettingsMap": {},
     "title": ""
    }
   },
   "source": [
    "* when(): El when se utiliza la función para mostrar la salida en función de la condición\n",
    "particular. Evalúa la condición proporcionada y luego devuelve los valores en\n",
    "consecuencia. Es una función SQL que admite PySpark para verificar múltiples condiciones\n",
    "en una secuencia y devolver el valor. Esta función funciona de manera similar como\n",
    "instrucciones if-then-else y switch.\n",
    "\n"
   ]
  },
  {
   "cell_type": "code",
   "execution_count": 0,
   "metadata": {
    "application/vnd.databricks.v1+cell": {
     "cellMetadata": {
      "byteLimit": 2048000,
      "rowLimit": 10000
     },
     "inputWidgets": {},
     "nuid": "ddcd3cea-c130-4762-94de-959f73bc0009",
     "showTitle": false,
     "tableResultSettingsMap": {},
     "title": ""
    }
   },
   "outputs": [
    {
     "output_type": "stream",
     "name": "stdout",
     "output_type": "stream",
     "text": [
      "+--------------------+----------------------------------------------------+\n|                name|CASE WHEN (vitamins >= 25) THEN rich in vitamins END|\n+--------------------+----------------------------------------------------+\n|           100% Bran|                                    rich in vitamins|\n|   100% Natural Bran|                                                null|\n|            All-Bran|                                    rich in vitamins|\n|All-Bran with Ext...|                                    rich in vitamins|\n|      Almond Delight|                                    rich in vitamins|\n|Apple Cinnamon Ch...|                                    rich in vitamins|\n|         Apple Jacks|                                    rich in vitamins|\n|             Basic 4|                                    rich in vitamins|\n|           Bran Chex|                                    rich in vitamins|\n|         Bran Flakes|                                    rich in vitamins|\n|        Cap'n'Crunch|                                    rich in vitamins|\n|            Cheerios|                                    rich in vitamins|\n|Cinnamon Toast Cr...|                                    rich in vitamins|\n|            Clusters|                                    rich in vitamins|\n|         Cocoa Puffs|                                    rich in vitamins|\n|           Corn Chex|                                    rich in vitamins|\n|         Corn Flakes|                                    rich in vitamins|\n|           Corn Pops|                                    rich in vitamins|\n|       Count Chocula|                                    rich in vitamins|\n|  Cracklin' Oat Bran|                                    rich in vitamins|\n+--------------------+----------------------------------------------------+\nonly showing top 20 rows\n\n"
     ]
    }
   ],
   "source": [
    "from pyspark.sql.functions import when\n",
    "df.select(\"name\", when(df.vitamins >= \"25\", \"rich in vitamins\")).show()"
   ]
  },
  {
   "cell_type": "markdown",
   "metadata": {
    "application/vnd.databricks.v1+cell": {
     "cellMetadata": {},
     "inputWidgets": {},
     "nuid": "f106fb5e-03b1-44e5-a4e1-c83a5537b917",
     "showTitle": false,
     "tableResultSettingsMap": {},
     "title": ""
    }
   },
   "source": [
    "* filtrar(): La función de filtro se utiliza para filtrar datos en filas según los valores de\n",
    "columna en particular. Por ejemplo, podemos filtrar los cereales que tienen calorías\n",
    "iguales a 100.\n"
   ]
  },
  {
   "cell_type": "code",
   "execution_count": 0,
   "metadata": {
    "application/vnd.databricks.v1+cell": {
     "cellMetadata": {
      "byteLimit": 2048000,
      "rowLimit": 10000
     },
     "inputWidgets": {},
     "nuid": "1d2330ac-58e0-4ff0-9721-8be4ee248dea",
     "showTitle": false,
     "tableResultSettingsMap": {},
     "title": ""
    }
   },
   "outputs": [
    {
     "output_type": "stream",
     "name": "stdout",
     "output_type": "stream",
     "text": [
      "+--------------------+---+----+--------+-------+---+------+-----+-----+------+------+--------+-----+------+----+----------+\n|                name|mfr|type|calories|protein|fat|sodium|fiber|carbo|sugars|potass|vitamins|shelf|weight|cups|    rating|\n+--------------------+---+----+--------+-------+---+------+-----+-----+------+------+--------+-----+------+----+----------+\n|         Corn Flakes|  K|   C|     100|      2|  0|   290|    1|   21|     2|    35|      25|    1|     1|   1|45.863.324|\n|Cream of Wheat (Q...|  N|   H|     100|      3|  0|    80|    1|   21|     0|    -1|       0|    2|     1|   1|64.533.816|\n|Crispy Wheat & Ra...|  G|   C|     100|      2|  1|   140|    2|   11|    10|   120|      25|    3|     1|0.75|36.176.196|\n|         Double Chex|  R|   C|     100|      2|  0|   190|    1|   18|     5|    80|      25|    3|     1|0.75|44.330.856|\n| Frosted Mini-Wheats|  K|   C|     100|      3|  0|     0|    3|   14|     7|   100|      25|    2|     1| 0.8|58.345.141|\n|        Golden Crisp|  P|   C|     100|      2|  0|    45|    0|   11|    15|    40|      25|    1|     1|0.88|35.252.444|\n|   Grape Nuts Flakes|  P|   C|     100|      3|  1|   140|    3|   15|     5|    85|      25|    3|     1|0.88|52.076.897|\n|                Life|  Q|   C|     100|      4|  2|   150|    2|   12|     6|    95|      25|    2|     1|0.67|45.328.074|\n|               Maypo|  A|   H|     100|      4|  1|     0|    0|   16|     3|    95|      25|    2|     1|   1|54.850.917|\n|Multi-Grain Cheerios|  G|   C|     100|      2|  1|   220|    2|   15|     6|    90|      25|    1|     1|   1|40.105.965|\n|          Product 19|  K|   C|     100|      3|  0|   320|    1|   20|     3|    45|     100|    3|     1|   1|41.503.540|\n|  Quaker Oat Squares|  Q|   C|     100|      4|  1|   135|    2|   14|     6|   110|      25|    3|     1| 0.5|49.511.874|\n|      Quaker Oatmeal|  Q|   H|     100|      5|  2|     0|  2.7|   -1|    -1|   110|       0|    1|     1|0.67|50.828.392|\n|     Raisin Nut Bran|  G|   C|     100|      3|  2|   140|  2.5| 10.5|     8|   140|      25|    3|     1| 0.5|39.703.400|\n|   Total Whole Grain|  G|   C|     100|      3|  1|   200|    3|   16|     3|   110|     100|    3|     1|   1|46.658.844|\n|          Wheat Chex|  R|   C|     100|      3|  1|   230|    3|   17|     3|   115|      25|    1|     1|0.67|49.787.445|\n|            Wheaties|  G|   C|     100|      3|  1|   200|    3|   17|     3|   110|      25|    1|     1|   1|51.592.193|\n+--------------------+---+----+--------+-------+---+------+-----+-----+------+------+--------+-----+------+----+----------+\n\n"
     ]
    }
   ],
   "source": [
    "from pyspark.sql.functions import filter\n",
    "df.filter(df.calories == '100').show()"
   ]
  },
  {
   "cell_type": "markdown",
   "metadata": {
    "application/vnd.databricks.v1+cell": {
     "cellMetadata": {},
     "inputWidgets": {},
     "nuid": "9eb7fc74-e3b4-411f-a7ac-4af7e9c9fedb",
     "showTitle": false,
     "tableResultSettingsMap": {},
     "title": ""
    }
   },
   "source": [
    "* isNull () / isNotNull (): Estas dos funciones se utilizan para averiguar si hay algún valor\n",
    "nulo presente en el DataFrame. Es la función más esencial para el procesamiento de datos.\n",
    "Es la principal herramienta utilizada para la limpieza de datos."
   ]
  },
  {
   "cell_type": "code",
   "execution_count": 0,
   "metadata": {
    "application/vnd.databricks.v1+cell": {
     "cellMetadata": {
      "byteLimit": 2048000,
      "rowLimit": 10000
     },
     "inputWidgets": {},
     "nuid": "060cc078-8de7-4017-82ef-2eb8f920c255",
     "showTitle": false,
     "tableResultSettingsMap": {},
     "title": ""
    }
   },
   "outputs": [
    {
     "output_type": "stream",
     "name": "stdout",
     "output_type": "stream",
     "text": [
      "+--------------------+---+----+--------+-------+---+------+-----+-----+------+------+--------+-----+------+----+----------+\n|                name|mfr|type|calories|protein|fat|sodium|fiber|carbo|sugars|potass|vitamins|shelf|weight|cups|    rating|\n+--------------------+---+----+--------+-------+---+------+-----+-----+------+------+--------+-----+------+----+----------+\n|           100% Bran|  N|   C|      70|      4|  1|   130|   10|    5|     6|   280|      25|    3|     1|0.33|68.402.973|\n|   100% Natural Bran|  Q|   C|     120|      3|  5|    15|    2|    8|     8|   135|       0|    3|     1|   1|33.983.679|\n|            All-Bran|  K|   C|      70|      4|  1|   260|    9|    7|     5|   320|      25|    3|     1|0.33|59.425.505|\n|All-Bran with Ext...|  K|   C|      50|      4|  0|   140|   14|    8|     0|   330|      25|    3|     1| 0.5|93.704.912|\n|      Almond Delight|  R|   C|     110|      2|  2|   200|    1|   14|     8|    -1|      25|    3|     1|0.75|34.384.843|\n|Apple Cinnamon Ch...|  G|   C|     110|      2|  2|   180|  1.5| 10.5|    10|    70|      25|    1|     1|0.75|29.509.541|\n|         Apple Jacks|  K|   C|     110|      2|  0|   125|    1|   11|    14|    30|      25|    2|     1|   1|33.174.094|\n|             Basic 4|  G|   C|     130|      3|  2|   210|    2|   18|     8|   100|      25|    3|  1.33|0.75|37.038.562|\n|           Bran Chex|  R|   C|      90|      2|  1|   200|    4|   15|     6|   125|      25|    1|     1|0.67|49.120.253|\n|         Bran Flakes|  P|   C|      90|      3|  0|   210|    5|   13|     5|   190|      25|    3|     1|0.67|53.313.813|\n|        Cap'n'Crunch|  Q|   C|     120|      1|  2|   220|    0|   12|    12|    35|      25|    2|     1|0.75|18.042.851|\n|            Cheerios|  G|   C|     110|      6|  2|   290|    2|   17|     1|   105|      25|    1|     1|1.25|50.764.999|\n|Cinnamon Toast Cr...|  G|   C|     120|      1|  3|   210|    0|   13|     9|    45|      25|    2|     1|0.75|19.823.573|\n|            Clusters|  G|   C|     110|      3|  2|   140|    2|   13|     7|   105|      25|    3|     1| 0.5|40.400.208|\n|         Cocoa Puffs|  G|   C|     110|      1|  1|   180|    0|   12|    13|    55|      25|    2|     1|   1|22.736.446|\n|           Corn Chex|  R|   C|     110|      2|  0|   280|    0|   22|     3|    25|      25|    1|     1|   1|41.445.019|\n|         Corn Flakes|  K|   C|     100|      2|  0|   290|    1|   21|     2|    35|      25|    1|     1|   1|45.863.324|\n|           Corn Pops|  K|   C|     110|      1|  0|    90|    1|   13|    12|    20|      25|    2|     1|   1|35.782.791|\n|       Count Chocula|  G|   C|     110|      1|  1|   180|    0|   12|    13|    65|      25|    2|     1|   1|22.396.513|\n|  Cracklin' Oat Bran|  K|   C|     110|      3|  3|   140|    4|   10|     7|   160|      25|    3|     1| 0.5|40.448.772|\n+--------------------+---+----+--------+-------+---+------+-----+-----+------+------+--------+-----+------+----+----------+\nonly showing top 20 rows\n\n"
     ]
    }
   ],
   "source": [
    "from pyspark.sql.functions import *\n",
    "\n",
    "df.filter(df.name.isNotNull()).show()"
   ]
  },
  {
   "cell_type": "code",
   "execution_count": 0,
   "metadata": {
    "application/vnd.databricks.v1+cell": {
     "cellMetadata": {
      "byteLimit": 2048000,
      "rowLimit": 10000
     },
     "inputWidgets": {},
     "nuid": "a8d72251-2178-401c-a6d6-3e805e9b538a",
     "showTitle": false,
     "tableResultSettingsMap": {},
     "title": ""
    }
   },
   "outputs": [
    {
     "output_type": "stream",
     "name": "stdout",
     "output_type": "stream",
     "text": [
      "+----+---+----+--------+-------+---+------+-----+-----+------+------+--------+-----+------+----+------+\n|name|mfr|type|calories|protein|fat|sodium|fiber|carbo|sugars|potass|vitamins|shelf|weight|cups|rating|\n+----+---+----+--------+-------+---+------+-----+-----+------+------+--------+-----+------+----+------+\n+----+---+----+--------+-------+---+------+-----+-----+------+------+--------+-----+------+----+------+\n\n"
     ]
    }
   ],
   "source": [
    "#Otra manera\n",
    "df.filter(df.name.isNull()).show()"
   ]
  },
  {
   "cell_type": "markdown",
   "metadata": {
    "application/vnd.databricks.v1+cell": {
     "cellMetadata": {},
     "inputWidgets": {},
     "nuid": "eedb07f7-1fdf-47ec-8dd1-db673b8f205b",
     "showTitle": false,
     "tableResultSettingsMap": {},
     "title": ""
    }
   },
   "source": [
    "Se concluye, que no hay valores nulos en el dataset. Por lo tanto, se muestra un marco de datos vacío."
   ]
  }
 ],
 "metadata": {
  "application/vnd.databricks.v1+notebook": {
   "dashboards": [],
   "environmentMetadata": null,
   "language": "python",
   "notebookMetadata": {
    "pythonIndentUnit": 4
   },
   "notebookName": "PySpark - Alumnos",
   "widgets": {}
  },
  "kernelspec": {
   "display_name": "Python 3 (ipykernel)",
   "language": "python",
   "name": "python3"
  },
  "language_info": {
   "codemirror_mode": {
    "name": "ipython",
    "version": 3
   },
   "file_extension": ".py",
   "mimetype": "text/x-python",
   "name": "python",
   "nbconvert_exporter": "python",
   "pygments_lexer": "ipython3",
   "version": "3.8.8"
  },
  "varInspector": {
   "cols": {
    "lenName": 16,
    "lenType": 16,
    "lenVar": 40
   },
   "kernels_config": {
    "python": {
     "delete_cmd_postfix": "",
     "delete_cmd_prefix": "del ",
     "library": "var_list.py",
     "varRefreshCmd": "print(var_dic_list())"
    },
    "r": {
     "delete_cmd_postfix": ") ",
     "delete_cmd_prefix": "rm(",
     "library": "var_list.r",
     "varRefreshCmd": "cat(var_dic_list()) "
    }
   },
   "types_to_exclude": [
    "module",
    "function",
    "builtin_function_or_method",
    "instance",
    "_Feature"
   ],
   "window_display": false
  }
 },
 "nbformat": 4,
 "nbformat_minor": 0
}
